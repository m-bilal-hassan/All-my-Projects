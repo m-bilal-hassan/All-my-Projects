{
 "cells": [
  {
   "cell_type": "markdown",
   "id": "ce771e52-8914-4f03-a65c-5c43d1369828",
   "metadata": {},
   "source": [
    "### First Import all liberary we used in Data Analysics"
   ]
  },
  {
   "cell_type": "code",
   "execution_count": 3,
   "id": "d35e09df-017b-472a-8014-013cf3d69a96",
   "metadata": {},
   "outputs": [],
   "source": [
    "import numpy as np\n",
    "import pandas as pd\n",
    "import matplotlib.pyplot as plt"
   ]
  },
  {
   "cell_type": "markdown",
   "id": "741e4a6b-6947-4532-bb35-8ad9f10623f6",
   "metadata": {},
   "source": [
    "### Load The data Set in anyformat we used"
   ]
  },
  {
   "cell_type": "code",
   "execution_count": 4,
   "id": "855bdbb3-3a54-47ae-808e-ea3210bafd49",
   "metadata": {},
   "outputs": [],
   "source": [
    "data=pd.read_csv('movie.csv')"
   ]
  },
  {
   "cell_type": "markdown",
   "id": "962d9cb9-555c-4c6f-a7a8-069a77e95568",
   "metadata": {},
   "source": [
    "### Check Rows and Column and Anything"
   ]
  },
  {
   "cell_type": "code",
   "execution_count": 5,
   "id": "31011eaf-2ac6-4307-8161-b8ff6fe39271",
   "metadata": {},
   "outputs": [
    {
     "data": {
      "text/html": [
       "<div>\n",
       "<style scoped>\n",
       "    .dataframe tbody tr th:only-of-type {\n",
       "        vertical-align: middle;\n",
       "    }\n",
       "\n",
       "    .dataframe tbody tr th {\n",
       "        vertical-align: top;\n",
       "    }\n",
       "\n",
       "    .dataframe thead th {\n",
       "        text-align: right;\n",
       "    }\n",
       "</style>\n",
       "<table border=\"1\" class=\"dataframe\">\n",
       "  <thead>\n",
       "    <tr style=\"text-align: right;\">\n",
       "      <th></th>\n",
       "      <th>Series_Title</th>\n",
       "      <th>Released_Year</th>\n",
       "      <th>Certificate</th>\n",
       "      <th>Runtime</th>\n",
       "      <th>Genre</th>\n",
       "      <th>IMDB_Rating</th>\n",
       "      <th>Meta_score</th>\n",
       "      <th>Director</th>\n",
       "      <th>Star1</th>\n",
       "      <th>No_of_Votes</th>\n",
       "      <th>Gross</th>\n",
       "    </tr>\n",
       "  </thead>\n",
       "  <tbody>\n",
       "    <tr>\n",
       "      <th>0</th>\n",
       "      <td>The Shawshank Redemption</td>\n",
       "      <td>1994</td>\n",
       "      <td>A</td>\n",
       "      <td>142 min</td>\n",
       "      <td>Drama</td>\n",
       "      <td>9.3</td>\n",
       "      <td>80.0</td>\n",
       "      <td>Frank Darabont</td>\n",
       "      <td>Tim Robbins</td>\n",
       "      <td>2343110</td>\n",
       "      <td>28341469.0</td>\n",
       "    </tr>\n",
       "    <tr>\n",
       "      <th>1</th>\n",
       "      <td>The Godfather</td>\n",
       "      <td>1972</td>\n",
       "      <td>A</td>\n",
       "      <td>175 min</td>\n",
       "      <td>Crime, Drama</td>\n",
       "      <td>9.2</td>\n",
       "      <td>100.0</td>\n",
       "      <td>Francis Ford Coppola</td>\n",
       "      <td>Marlon Brando</td>\n",
       "      <td>1620367</td>\n",
       "      <td>134966411.0</td>\n",
       "    </tr>\n",
       "    <tr>\n",
       "      <th>2</th>\n",
       "      <td>The Dark Knight</td>\n",
       "      <td>2008</td>\n",
       "      <td>UA</td>\n",
       "      <td>152 min</td>\n",
       "      <td>Action, Crime, Drama</td>\n",
       "      <td>9.0</td>\n",
       "      <td>84.0</td>\n",
       "      <td>Christopher Nolan</td>\n",
       "      <td>Christian Bale</td>\n",
       "      <td>2303232</td>\n",
       "      <td>534858444.0</td>\n",
       "    </tr>\n",
       "    <tr>\n",
       "      <th>3</th>\n",
       "      <td>The Godfather: Part II</td>\n",
       "      <td>1974</td>\n",
       "      <td>A</td>\n",
       "      <td>202 min</td>\n",
       "      <td>Crime, Drama</td>\n",
       "      <td>9.0</td>\n",
       "      <td>90.0</td>\n",
       "      <td>Francis Ford Coppola</td>\n",
       "      <td>Al Pacino</td>\n",
       "      <td>1129952</td>\n",
       "      <td>57300000.0</td>\n",
       "    </tr>\n",
       "  </tbody>\n",
       "</table>\n",
       "</div>"
      ],
      "text/plain": [
       "               Series_Title Released_Year Certificate  Runtime  \\\n",
       "0  The Shawshank Redemption          1994           A  142 min   \n",
       "1             The Godfather          1972           A  175 min   \n",
       "2           The Dark Knight          2008          UA  152 min   \n",
       "3    The Godfather: Part II          1974           A  202 min   \n",
       "\n",
       "                  Genre  IMDB_Rating  Meta_score              Director  \\\n",
       "0                 Drama          9.3        80.0        Frank Darabont   \n",
       "1          Crime, Drama          9.2       100.0  Francis Ford Coppola   \n",
       "2  Action, Crime, Drama          9.0        84.0     Christopher Nolan   \n",
       "3          Crime, Drama          9.0        90.0  Francis Ford Coppola   \n",
       "\n",
       "            Star1  No_of_Votes        Gross  \n",
       "0     Tim Robbins      2343110   28341469.0  \n",
       "1   Marlon Brando      1620367  134966411.0  \n",
       "2  Christian Bale      2303232  534858444.0  \n",
       "3       Al Pacino      1129952   57300000.0  "
      ]
     },
     "execution_count": 5,
     "metadata": {},
     "output_type": "execute_result"
    }
   ],
   "source": [
    "data.head(4)"
   ]
  },
  {
   "cell_type": "code",
   "execution_count": 6,
   "id": "2d2858fe-a5ef-4120-98b1-5b2866dd16f5",
   "metadata": {},
   "outputs": [
    {
     "data": {
      "text/plain": [
       "(1000, 11)"
      ]
     },
     "execution_count": 6,
     "metadata": {},
     "output_type": "execute_result"
    }
   ],
   "source": [
    "data.shape"
   ]
  },
  {
   "cell_type": "code",
   "execution_count": 7,
   "id": "05366b29-b233-4e6a-9c4e-d146858204ba",
   "metadata": {},
   "outputs": [
    {
     "data": {
      "text/plain": [
       "Index(['Series_Title', 'Released_Year', 'Certificate', 'Runtime', 'Genre',\n",
       "       'IMDB_Rating', 'Meta_score', 'Director', 'Star1', 'No_of_Votes',\n",
       "       'Gross'],\n",
       "      dtype='object')"
      ]
     },
     "execution_count": 7,
     "metadata": {},
     "output_type": "execute_result"
    }
   ],
   "source": [
    "data.columns"
   ]
  },
  {
   "cell_type": "code",
   "execution_count": 8,
   "id": "b014da46-594a-435e-b2b7-f19049912bd4",
   "metadata": {},
   "outputs": [
    {
     "data": {
      "text/plain": [
       "Series_Title      object\n",
       "Released_Year     object\n",
       "Certificate       object\n",
       "Runtime           object\n",
       "Genre             object\n",
       "IMDB_Rating      float64\n",
       "Meta_score       float64\n",
       "Director          object\n",
       "Star1             object\n",
       "No_of_Votes        int64\n",
       "Gross            float64\n",
       "dtype: object"
      ]
     },
     "execution_count": 8,
     "metadata": {},
     "output_type": "execute_result"
    }
   ],
   "source": [
    "data.dtypes"
   ]
  },
  {
   "cell_type": "code",
   "execution_count": 9,
   "id": "5b2fcc64-f21e-4a03-8783-bc2bfb02047b",
   "metadata": {},
   "outputs": [
    {
     "data": {
      "text/plain": [
       "Series_Title       0\n",
       "Released_Year      0\n",
       "Certificate      101\n",
       "Runtime            0\n",
       "Genre              0\n",
       "IMDB_Rating        0\n",
       "Meta_score       157\n",
       "Director           0\n",
       "Star1              0\n",
       "No_of_Votes        0\n",
       "Gross            169\n",
       "dtype: int64"
      ]
     },
     "execution_count": 9,
     "metadata": {},
     "output_type": "execute_result"
    }
   ],
   "source": [
    "data.isnull().sum()"
   ]
  },
  {
   "cell_type": "code",
   "execution_count": 10,
   "id": "eecbbe17-0831-40bc-a119-c8f3d2116b68",
   "metadata": {},
   "outputs": [
    {
     "data": {
      "text/plain": [
       "4567"
      ]
     },
     "execution_count": 10,
     "metadata": {},
     "output_type": "execute_result"
    }
   ],
   "source": [
    "data.nunique().sum()"
   ]
  },
  {
   "cell_type": "code",
   "execution_count": 11,
   "id": "79cbfd01-e473-4dd9-8528-693906b7d57f",
   "metadata": {},
   "outputs": [
    {
     "data": {
      "text/plain": [
       "Series_Title     999\n",
       "Released_Year    100\n",
       "Certificate       16\n",
       "Runtime          140\n",
       "Genre            202\n",
       "IMDB_Rating       17\n",
       "Meta_score        63\n",
       "Director         548\n",
       "Star1            660\n",
       "No_of_Votes      999\n",
       "Gross            823\n",
       "dtype: int64"
      ]
     },
     "execution_count": 11,
     "metadata": {},
     "output_type": "execute_result"
    }
   ],
   "source": [
    "data.nunique()"
   ]
  },
  {
   "cell_type": "code",
   "execution_count": 12,
   "id": "2e3cd801-4bad-421d-b602-0352d4522929",
   "metadata": {},
   "outputs": [
    {
     "data": {
      "text/plain": [
       "array(['1994', '1972', '2008', '1974', '1957', '2003', '1993', '2010',\n",
       "       '1999', '2001', '1966', '2002', '1990', '1980', '1975', '2020',\n",
       "       '2019', '2014', '1998', '1997', '1995', '1991', '1977', '1962',\n",
       "       '1954', '1946', '2011', '2006', '2000', '1988', '1985', '1968',\n",
       "       '1960', '1942', '1936', '1931', '2018', '2017', '2016', '2012',\n",
       "       '2009', '2007', '1984', '1981', '1979', '1971', '1963', '1964',\n",
       "       '1950', '1940', '2013', '2005', '2004', '1992', '1987', '1986',\n",
       "       '1983', '1976', '1973', '1965', '1959', '1958', '1952', '1948',\n",
       "       '1944', '1941', '1927', '1921', '2015', '1996', '1989', '1978',\n",
       "       '1961', '1955', '1953', '1925', '1924', '1982', '1967', '1951',\n",
       "       '1949', '1939', '1937', '1934', '1928', '1926', '1920', '1970',\n",
       "       '1969', '1956', '1947', '1945', '1930', '1938', '1935', '1933',\n",
       "       '1932', '1922', '1943', 'PG'], dtype=object)"
      ]
     },
     "execution_count": 12,
     "metadata": {},
     "output_type": "execute_result"
    }
   ],
   "source": [
    "data.Released_Year.unique()"
   ]
  },
  {
   "cell_type": "code",
   "execution_count": 13,
   "id": "dd4d20b1-dc84-4fdc-ad49-022b1f2d827d",
   "metadata": {},
   "outputs": [
    {
     "name": "stdout",
     "output_type": "stream",
     "text": [
      "<class 'pandas.core.frame.DataFrame'>\n",
      "RangeIndex: 1000 entries, 0 to 999\n",
      "Data columns (total 11 columns):\n",
      " #   Column         Non-Null Count  Dtype  \n",
      "---  ------         --------------  -----  \n",
      " 0   Series_Title   1000 non-null   object \n",
      " 1   Released_Year  1000 non-null   object \n",
      " 2   Certificate    899 non-null    object \n",
      " 3   Runtime        1000 non-null   object \n",
      " 4   Genre          1000 non-null   object \n",
      " 5   IMDB_Rating    1000 non-null   float64\n",
      " 6   Meta_score     843 non-null    float64\n",
      " 7   Director       1000 non-null   object \n",
      " 8   Star1          1000 non-null   object \n",
      " 9   No_of_Votes    1000 non-null   int64  \n",
      " 10  Gross          831 non-null    float64\n",
      "dtypes: float64(3), int64(1), object(7)\n",
      "memory usage: 86.1+ KB\n"
     ]
    }
   ],
   "source": [
    "data.info()"
   ]
  },
  {
   "cell_type": "code",
   "execution_count": 14,
   "id": "68d3dff9-c0c3-4058-abab-ba08e08aade1",
   "metadata": {},
   "outputs": [
    {
     "data": {
      "text/html": [
       "<div>\n",
       "<style scoped>\n",
       "    .dataframe tbody tr th:only-of-type {\n",
       "        vertical-align: middle;\n",
       "    }\n",
       "\n",
       "    .dataframe tbody tr th {\n",
       "        vertical-align: top;\n",
       "    }\n",
       "\n",
       "    .dataframe thead th {\n",
       "        text-align: right;\n",
       "    }\n",
       "</style>\n",
       "<table border=\"1\" class=\"dataframe\">\n",
       "  <thead>\n",
       "    <tr style=\"text-align: right;\">\n",
       "      <th></th>\n",
       "      <th>Series_Title</th>\n",
       "      <th>Released_Year</th>\n",
       "      <th>Certificate</th>\n",
       "      <th>Runtime</th>\n",
       "      <th>Genre</th>\n",
       "      <th>IMDB_Rating</th>\n",
       "      <th>Meta_score</th>\n",
       "      <th>Director</th>\n",
       "      <th>Star1</th>\n",
       "      <th>No_of_Votes</th>\n",
       "      <th>Gross</th>\n",
       "    </tr>\n",
       "  </thead>\n",
       "  <tbody>\n",
       "    <tr>\n",
       "      <th>966</th>\n",
       "      <td>Apollo 13</td>\n",
       "      <td>PG</td>\n",
       "      <td>U</td>\n",
       "      <td>140 min</td>\n",
       "      <td>Adventure, Drama, History</td>\n",
       "      <td>7.6</td>\n",
       "      <td>77.0</td>\n",
       "      <td>Ron Howard</td>\n",
       "      <td>Tom Hanks</td>\n",
       "      <td>269197</td>\n",
       "      <td>173837933.0</td>\n",
       "    </tr>\n",
       "  </tbody>\n",
       "</table>\n",
       "</div>"
      ],
      "text/plain": [
       "    Series_Title Released_Year Certificate  Runtime  \\\n",
       "966    Apollo 13            PG           U  140 min   \n",
       "\n",
       "                         Genre  IMDB_Rating  Meta_score    Director  \\\n",
       "966  Adventure, Drama, History          7.6        77.0  Ron Howard   \n",
       "\n",
       "         Star1  No_of_Votes        Gross  \n",
       "966  Tom Hanks       269197  173837933.0  "
      ]
     },
     "execution_count": 14,
     "metadata": {},
     "output_type": "execute_result"
    }
   ],
   "source": [
    "data[data.Released_Year=='PG']"
   ]
  },
  {
   "cell_type": "code",
   "execution_count": 15,
   "id": "7de1efd6-a509-4c3d-bbb1-9d3cca7f6497",
   "metadata": {},
   "outputs": [],
   "source": [
    "data.loc[966,'Released_Year'] = 1970"
   ]
  },
  {
   "cell_type": "code",
   "execution_count": 16,
   "id": "6ab2bebb-e084-4a49-a364-4b615292f160",
   "metadata": {},
   "outputs": [],
   "source": [
    "data.Released_Year = data.Released_Year.astype('int')"
   ]
  },
  {
   "cell_type": "code",
   "execution_count": 17,
   "id": "a321b12f-8e66-414f-8ad8-819b92b3d699",
   "metadata": {},
   "outputs": [
    {
     "data": {
      "text/plain": [
       "0    1994\n",
       "1    1972\n",
       "2    2008\n",
       "3    1974\n",
       "Name: Released_Year, dtype: int32"
      ]
     },
     "execution_count": 17,
     "metadata": {},
     "output_type": "execute_result"
    }
   ],
   "source": [
    "data.Released_Year.head(4)"
   ]
  },
  {
   "cell_type": "code",
   "execution_count": 18,
   "id": "851af466-f0bf-4e2b-806b-b5505fe22125",
   "metadata": {},
   "outputs": [],
   "source": [
    "data.Runtime = data.Runtime.str.replace(\" min\",\"\").astype(int)"
   ]
  },
  {
   "cell_type": "code",
   "execution_count": 19,
   "id": "d2ed6104-520a-4cdb-ab8f-0a4e310a1d83",
   "metadata": {},
   "outputs": [
    {
     "data": {
      "text/plain": [
       "0      142\n",
       "1      175\n",
       "2      152\n",
       "3      202\n",
       "4       96\n",
       "      ... \n",
       "995    115\n",
       "996    201\n",
       "997    118\n",
       "998     97\n",
       "999     86\n",
       "Name: Runtime, Length: 1000, dtype: int32"
      ]
     },
     "execution_count": 19,
     "metadata": {},
     "output_type": "execute_result"
    }
   ],
   "source": [
    "data.Runtime"
   ]
  },
  {
   "cell_type": "code",
   "execution_count": 20,
   "id": "c08b6eb4-d74e-4a90-baf5-7d8bb5730d9e",
   "metadata": {},
   "outputs": [],
   "source": [
    "data.dropna(inplace=True)"
   ]
  },
  {
   "cell_type": "code",
   "execution_count": 21,
   "id": "23c6a554-4280-4782-91be-74f8c14aed6d",
   "metadata": {},
   "outputs": [
    {
     "data": {
      "text/html": [
       "<div>\n",
       "<style scoped>\n",
       "    .dataframe tbody tr th:only-of-type {\n",
       "        vertical-align: middle;\n",
       "    }\n",
       "\n",
       "    .dataframe tbody tr th {\n",
       "        vertical-align: top;\n",
       "    }\n",
       "\n",
       "    .dataframe thead th {\n",
       "        text-align: right;\n",
       "    }\n",
       "</style>\n",
       "<table border=\"1\" class=\"dataframe\">\n",
       "  <thead>\n",
       "    <tr style=\"text-align: right;\">\n",
       "      <th></th>\n",
       "      <th>Series_Title</th>\n",
       "      <th>Released_Year</th>\n",
       "      <th>Certificate</th>\n",
       "      <th>Runtime</th>\n",
       "      <th>Genre</th>\n",
       "      <th>IMDB_Rating</th>\n",
       "      <th>Meta_score</th>\n",
       "      <th>Director</th>\n",
       "      <th>Star1</th>\n",
       "      <th>No_of_Votes</th>\n",
       "      <th>Gross</th>\n",
       "    </tr>\n",
       "  </thead>\n",
       "  <tbody>\n",
       "    <tr>\n",
       "      <th>0</th>\n",
       "      <td>The Shawshank Redemption</td>\n",
       "      <td>1994</td>\n",
       "      <td>A</td>\n",
       "      <td>142</td>\n",
       "      <td>Drama</td>\n",
       "      <td>9.3</td>\n",
       "      <td>80.0</td>\n",
       "      <td>Frank Darabont</td>\n",
       "      <td>Tim Robbins</td>\n",
       "      <td>2343110</td>\n",
       "      <td>28341469.0</td>\n",
       "    </tr>\n",
       "    <tr>\n",
       "      <th>1</th>\n",
       "      <td>The Godfather</td>\n",
       "      <td>1972</td>\n",
       "      <td>A</td>\n",
       "      <td>175</td>\n",
       "      <td>Crime, Drama</td>\n",
       "      <td>9.2</td>\n",
       "      <td>100.0</td>\n",
       "      <td>Francis Ford Coppola</td>\n",
       "      <td>Marlon Brando</td>\n",
       "      <td>1620367</td>\n",
       "      <td>134966411.0</td>\n",
       "    </tr>\n",
       "    <tr>\n",
       "      <th>2</th>\n",
       "      <td>The Dark Knight</td>\n",
       "      <td>2008</td>\n",
       "      <td>UA</td>\n",
       "      <td>152</td>\n",
       "      <td>Action, Crime, Drama</td>\n",
       "      <td>9.0</td>\n",
       "      <td>84.0</td>\n",
       "      <td>Christopher Nolan</td>\n",
       "      <td>Christian Bale</td>\n",
       "      <td>2303232</td>\n",
       "      <td>534858444.0</td>\n",
       "    </tr>\n",
       "    <tr>\n",
       "      <th>3</th>\n",
       "      <td>The Godfather: Part II</td>\n",
       "      <td>1974</td>\n",
       "      <td>A</td>\n",
       "      <td>202</td>\n",
       "      <td>Crime, Drama</td>\n",
       "      <td>9.0</td>\n",
       "      <td>90.0</td>\n",
       "      <td>Francis Ford Coppola</td>\n",
       "      <td>Al Pacino</td>\n",
       "      <td>1129952</td>\n",
       "      <td>57300000.0</td>\n",
       "    </tr>\n",
       "    <tr>\n",
       "      <th>4</th>\n",
       "      <td>12 Angry Men</td>\n",
       "      <td>1957</td>\n",
       "      <td>U</td>\n",
       "      <td>96</td>\n",
       "      <td>Crime, Drama</td>\n",
       "      <td>9.0</td>\n",
       "      <td>96.0</td>\n",
       "      <td>Sidney Lumet</td>\n",
       "      <td>Henry Fonda</td>\n",
       "      <td>689845</td>\n",
       "      <td>4360000.0</td>\n",
       "    </tr>\n",
       "    <tr>\n",
       "      <th>...</th>\n",
       "      <td>...</td>\n",
       "      <td>...</td>\n",
       "      <td>...</td>\n",
       "      <td>...</td>\n",
       "      <td>...</td>\n",
       "      <td>...</td>\n",
       "      <td>...</td>\n",
       "      <td>...</td>\n",
       "      <td>...</td>\n",
       "      <td>...</td>\n",
       "      <td>...</td>\n",
       "    </tr>\n",
       "    <tr>\n",
       "      <th>990</th>\n",
       "      <td>Giù la testa</td>\n",
       "      <td>1971</td>\n",
       "      <td>PG</td>\n",
       "      <td>157</td>\n",
       "      <td>Drama, War, Western</td>\n",
       "      <td>7.6</td>\n",
       "      <td>77.0</td>\n",
       "      <td>Sergio Leone</td>\n",
       "      <td>Rod Steiger</td>\n",
       "      <td>30144</td>\n",
       "      <td>696690.0</td>\n",
       "    </tr>\n",
       "    <tr>\n",
       "      <th>991</th>\n",
       "      <td>Kelly's Heroes</td>\n",
       "      <td>1970</td>\n",
       "      <td>GP</td>\n",
       "      <td>144</td>\n",
       "      <td>Adventure, Comedy, War</td>\n",
       "      <td>7.6</td>\n",
       "      <td>50.0</td>\n",
       "      <td>Brian G. Hutton</td>\n",
       "      <td>Clint Eastwood</td>\n",
       "      <td>45338</td>\n",
       "      <td>1378435.0</td>\n",
       "    </tr>\n",
       "    <tr>\n",
       "      <th>992</th>\n",
       "      <td>The Jungle Book</td>\n",
       "      <td>1967</td>\n",
       "      <td>U</td>\n",
       "      <td>78</td>\n",
       "      <td>Animation, Adventure, Family</td>\n",
       "      <td>7.6</td>\n",
       "      <td>65.0</td>\n",
       "      <td>Wolfgang Reitherman</td>\n",
       "      <td>Phil Harris</td>\n",
       "      <td>166409</td>\n",
       "      <td>141843612.0</td>\n",
       "    </tr>\n",
       "    <tr>\n",
       "      <th>994</th>\n",
       "      <td>A Hard Day's Night</td>\n",
       "      <td>1964</td>\n",
       "      <td>U</td>\n",
       "      <td>87</td>\n",
       "      <td>Comedy, Music, Musical</td>\n",
       "      <td>7.6</td>\n",
       "      <td>96.0</td>\n",
       "      <td>Richard Lester</td>\n",
       "      <td>John Lennon</td>\n",
       "      <td>40351</td>\n",
       "      <td>13780024.0</td>\n",
       "    </tr>\n",
       "    <tr>\n",
       "      <th>997</th>\n",
       "      <td>From Here to Eternity</td>\n",
       "      <td>1953</td>\n",
       "      <td>Passed</td>\n",
       "      <td>118</td>\n",
       "      <td>Drama, Romance, War</td>\n",
       "      <td>7.6</td>\n",
       "      <td>85.0</td>\n",
       "      <td>Fred Zinnemann</td>\n",
       "      <td>Burt Lancaster</td>\n",
       "      <td>43374</td>\n",
       "      <td>30500000.0</td>\n",
       "    </tr>\n",
       "  </tbody>\n",
       "</table>\n",
       "<p>714 rows × 11 columns</p>\n",
       "</div>"
      ],
      "text/plain": [
       "                 Series_Title  Released_Year Certificate  Runtime  \\\n",
       "0    The Shawshank Redemption           1994           A      142   \n",
       "1               The Godfather           1972           A      175   \n",
       "2             The Dark Knight           2008          UA      152   \n",
       "3      The Godfather: Part II           1974           A      202   \n",
       "4                12 Angry Men           1957           U       96   \n",
       "..                        ...            ...         ...      ...   \n",
       "990              Giù la testa           1971          PG      157   \n",
       "991            Kelly's Heroes           1970          GP      144   \n",
       "992           The Jungle Book           1967           U       78   \n",
       "994        A Hard Day's Night           1964           U       87   \n",
       "997     From Here to Eternity           1953      Passed      118   \n",
       "\n",
       "                            Genre  IMDB_Rating  Meta_score  \\\n",
       "0                           Drama          9.3        80.0   \n",
       "1                    Crime, Drama          9.2       100.0   \n",
       "2            Action, Crime, Drama          9.0        84.0   \n",
       "3                    Crime, Drama          9.0        90.0   \n",
       "4                    Crime, Drama          9.0        96.0   \n",
       "..                            ...          ...         ...   \n",
       "990           Drama, War, Western          7.6        77.0   \n",
       "991        Adventure, Comedy, War          7.6        50.0   \n",
       "992  Animation, Adventure, Family          7.6        65.0   \n",
       "994        Comedy, Music, Musical          7.6        96.0   \n",
       "997           Drama, Romance, War          7.6        85.0   \n",
       "\n",
       "                 Director           Star1  No_of_Votes        Gross  \n",
       "0          Frank Darabont     Tim Robbins      2343110   28341469.0  \n",
       "1    Francis Ford Coppola   Marlon Brando      1620367  134966411.0  \n",
       "2       Christopher Nolan  Christian Bale      2303232  534858444.0  \n",
       "3    Francis Ford Coppola       Al Pacino      1129952   57300000.0  \n",
       "4            Sidney Lumet     Henry Fonda       689845    4360000.0  \n",
       "..                    ...             ...          ...          ...  \n",
       "990          Sergio Leone     Rod Steiger        30144     696690.0  \n",
       "991       Brian G. Hutton  Clint Eastwood        45338    1378435.0  \n",
       "992   Wolfgang Reitherman     Phil Harris       166409  141843612.0  \n",
       "994        Richard Lester     John Lennon        40351   13780024.0  \n",
       "997        Fred Zinnemann  Burt Lancaster        43374   30500000.0  \n",
       "\n",
       "[714 rows x 11 columns]"
      ]
     },
     "execution_count": 21,
     "metadata": {},
     "output_type": "execute_result"
    }
   ],
   "source": [
    "data"
   ]
  },
  {
   "cell_type": "code",
   "execution_count": 22,
   "id": "329e5249-f93e-41d0-a1ba-6087087e7078",
   "metadata": {},
   "outputs": [
    {
     "data": {
      "text/plain": [
       "Series_Title     0\n",
       "Released_Year    0\n",
       "Certificate      0\n",
       "Runtime          0\n",
       "Genre            0\n",
       "IMDB_Rating      0\n",
       "Meta_score       0\n",
       "Director         0\n",
       "Star1            0\n",
       "No_of_Votes      0\n",
       "Gross            0\n",
       "dtype: int64"
      ]
     },
     "execution_count": 22,
     "metadata": {},
     "output_type": "execute_result"
    }
   ],
   "source": [
    "data.isnull().sum()"
   ]
  },
  {
   "cell_type": "code",
   "execution_count": 23,
   "id": "376569c5-7075-4179-84b8-905f7deb4184",
   "metadata": {},
   "outputs": [],
   "source": [
    "data.drop_duplicates(inplace=True)"
   ]
  },
  {
   "cell_type": "code",
   "execution_count": 24,
   "id": "127ec52a-52cb-43dd-9c73-134877e5dda4",
   "metadata": {},
   "outputs": [
    {
     "data": {
      "text/plain": [
       "<bound method DataFrame.sum of                  Series_Title  Released_Year Certificate  Runtime  \\\n",
       "0    The Shawshank Redemption           1994           A      142   \n",
       "1               The Godfather           1972           A      175   \n",
       "2             The Dark Knight           2008          UA      152   \n",
       "3      The Godfather: Part II           1974           A      202   \n",
       "4                12 Angry Men           1957           U       96   \n",
       "..                        ...            ...         ...      ...   \n",
       "990              Giù la testa           1971          PG      157   \n",
       "991            Kelly's Heroes           1970          GP      144   \n",
       "992           The Jungle Book           1967           U       78   \n",
       "994        A Hard Day's Night           1964           U       87   \n",
       "997     From Here to Eternity           1953      Passed      118   \n",
       "\n",
       "                            Genre  IMDB_Rating  Meta_score  \\\n",
       "0                           Drama          9.3        80.0   \n",
       "1                    Crime, Drama          9.2       100.0   \n",
       "2            Action, Crime, Drama          9.0        84.0   \n",
       "3                    Crime, Drama          9.0        90.0   \n",
       "4                    Crime, Drama          9.0        96.0   \n",
       "..                            ...          ...         ...   \n",
       "990           Drama, War, Western          7.6        77.0   \n",
       "991        Adventure, Comedy, War          7.6        50.0   \n",
       "992  Animation, Adventure, Family          7.6        65.0   \n",
       "994        Comedy, Music, Musical          7.6        96.0   \n",
       "997           Drama, Romance, War          7.6        85.0   \n",
       "\n",
       "                 Director           Star1  No_of_Votes        Gross  \n",
       "0          Frank Darabont     Tim Robbins      2343110   28341469.0  \n",
       "1    Francis Ford Coppola   Marlon Brando      1620367  134966411.0  \n",
       "2       Christopher Nolan  Christian Bale      2303232  534858444.0  \n",
       "3    Francis Ford Coppola       Al Pacino      1129952   57300000.0  \n",
       "4            Sidney Lumet     Henry Fonda       689845    4360000.0  \n",
       "..                    ...             ...          ...          ...  \n",
       "990          Sergio Leone     Rod Steiger        30144     696690.0  \n",
       "991       Brian G. Hutton  Clint Eastwood        45338    1378435.0  \n",
       "992   Wolfgang Reitherman     Phil Harris       166409  141843612.0  \n",
       "994        Richard Lester     John Lennon        40351   13780024.0  \n",
       "997        Fred Zinnemann  Burt Lancaster        43374   30500000.0  \n",
       "\n",
       "[714 rows x 11 columns]>"
      ]
     },
     "execution_count": 24,
     "metadata": {},
     "output_type": "execute_result"
    }
   ],
   "source": [
    "data.drop_duplicates().sum"
   ]
  },
  {
   "cell_type": "code",
   "execution_count": 25,
   "id": "db6f80a1-a4ca-45b8-b3f8-b70f45f4948e",
   "metadata": {},
   "outputs": [
    {
     "name": "stdout",
     "output_type": "stream",
     "text": [
      "<class 'pandas.core.frame.DataFrame'>\n",
      "Index: 714 entries, 0 to 997\n",
      "Data columns (total 11 columns):\n",
      " #   Column         Non-Null Count  Dtype  \n",
      "---  ------         --------------  -----  \n",
      " 0   Series_Title   714 non-null    object \n",
      " 1   Released_Year  714 non-null    int32  \n",
      " 2   Certificate    714 non-null    object \n",
      " 3   Runtime        714 non-null    int32  \n",
      " 4   Genre          714 non-null    object \n",
      " 5   IMDB_Rating    714 non-null    float64\n",
      " 6   Meta_score     714 non-null    float64\n",
      " 7   Director       714 non-null    object \n",
      " 8   Star1          714 non-null    object \n",
      " 9   No_of_Votes    714 non-null    int64  \n",
      " 10  Gross          714 non-null    float64\n",
      "dtypes: float64(3), int32(2), int64(1), object(5)\n",
      "memory usage: 61.4+ KB\n"
     ]
    }
   ],
   "source": [
    "data.info()"
   ]
  },
  {
   "cell_type": "code",
   "execution_count": 26,
   "id": "29404b37-712e-4116-9ae7-954b3870db43",
   "metadata": {},
   "outputs": [
    {
     "data": {
      "text/plain": [
       "(714, 11)"
      ]
     },
     "execution_count": 26,
     "metadata": {},
     "output_type": "execute_result"
    }
   ],
   "source": [
    "data.shape"
   ]
  },
  {
   "cell_type": "code",
   "execution_count": 27,
   "id": "687a38aa-9253-4dc9-82c3-a6c49d2375ad",
   "metadata": {},
   "outputs": [
    {
     "data": {
      "text/plain": [
       "Index(['Series_Title', 'Released_Year', 'Certificate', 'Runtime', 'Genre',\n",
       "       'IMDB_Rating', 'Meta_score', 'Director', 'Star1', 'No_of_Votes',\n",
       "       'Gross'],\n",
       "      dtype='object')"
      ]
     },
     "execution_count": 27,
     "metadata": {},
     "output_type": "execute_result"
    }
   ],
   "source": [
    "data.columns"
   ]
  },
  {
   "cell_type": "code",
   "execution_count": 28,
   "id": "7177e57f-a565-4f14-a56a-272c1bb5db51",
   "metadata": {},
   "outputs": [
    {
     "data": {
      "text/html": [
       "<div>\n",
       "<style scoped>\n",
       "    .dataframe tbody tr th:only-of-type {\n",
       "        vertical-align: middle;\n",
       "    }\n",
       "\n",
       "    .dataframe tbody tr th {\n",
       "        vertical-align: top;\n",
       "    }\n",
       "\n",
       "    .dataframe thead th {\n",
       "        text-align: right;\n",
       "    }\n",
       "</style>\n",
       "<table border=\"1\" class=\"dataframe\">\n",
       "  <thead>\n",
       "    <tr style=\"text-align: right;\">\n",
       "      <th></th>\n",
       "      <th>Series_Title</th>\n",
       "      <th>Released_Year</th>\n",
       "      <th>Certificate</th>\n",
       "      <th>Runtime</th>\n",
       "      <th>Genre</th>\n",
       "      <th>IMDB_Rating</th>\n",
       "      <th>Meta_score</th>\n",
       "      <th>Director</th>\n",
       "      <th>Star1</th>\n",
       "      <th>No_of_Votes</th>\n",
       "      <th>Gross</th>\n",
       "    </tr>\n",
       "  </thead>\n",
       "  <tbody>\n",
       "    <tr>\n",
       "      <th>0</th>\n",
       "      <td>The Shawshank Redemption</td>\n",
       "      <td>1994</td>\n",
       "      <td>A</td>\n",
       "      <td>142</td>\n",
       "      <td>Drama</td>\n",
       "      <td>9.3</td>\n",
       "      <td>80.0</td>\n",
       "      <td>Frank Darabont</td>\n",
       "      <td>Tim Robbins</td>\n",
       "      <td>2343110</td>\n",
       "      <td>28341469.0</td>\n",
       "    </tr>\n",
       "    <tr>\n",
       "      <th>1</th>\n",
       "      <td>The Godfather</td>\n",
       "      <td>1972</td>\n",
       "      <td>A</td>\n",
       "      <td>175</td>\n",
       "      <td>Crime, Drama</td>\n",
       "      <td>9.2</td>\n",
       "      <td>100.0</td>\n",
       "      <td>Francis Ford Coppola</td>\n",
       "      <td>Marlon Brando</td>\n",
       "      <td>1620367</td>\n",
       "      <td>134966411.0</td>\n",
       "    </tr>\n",
       "    <tr>\n",
       "      <th>2</th>\n",
       "      <td>The Dark Knight</td>\n",
       "      <td>2008</td>\n",
       "      <td>UA</td>\n",
       "      <td>152</td>\n",
       "      <td>Action, Crime, Drama</td>\n",
       "      <td>9.0</td>\n",
       "      <td>84.0</td>\n",
       "      <td>Christopher Nolan</td>\n",
       "      <td>Christian Bale</td>\n",
       "      <td>2303232</td>\n",
       "      <td>534858444.0</td>\n",
       "    </tr>\n",
       "    <tr>\n",
       "      <th>3</th>\n",
       "      <td>The Godfather: Part II</td>\n",
       "      <td>1974</td>\n",
       "      <td>A</td>\n",
       "      <td>202</td>\n",
       "      <td>Crime, Drama</td>\n",
       "      <td>9.0</td>\n",
       "      <td>90.0</td>\n",
       "      <td>Francis Ford Coppola</td>\n",
       "      <td>Al Pacino</td>\n",
       "      <td>1129952</td>\n",
       "      <td>57300000.0</td>\n",
       "    </tr>\n",
       "    <tr>\n",
       "      <th>4</th>\n",
       "      <td>12 Angry Men</td>\n",
       "      <td>1957</td>\n",
       "      <td>U</td>\n",
       "      <td>96</td>\n",
       "      <td>Crime, Drama</td>\n",
       "      <td>9.0</td>\n",
       "      <td>96.0</td>\n",
       "      <td>Sidney Lumet</td>\n",
       "      <td>Henry Fonda</td>\n",
       "      <td>689845</td>\n",
       "      <td>4360000.0</td>\n",
       "    </tr>\n",
       "    <tr>\n",
       "      <th>...</th>\n",
       "      <td>...</td>\n",
       "      <td>...</td>\n",
       "      <td>...</td>\n",
       "      <td>...</td>\n",
       "      <td>...</td>\n",
       "      <td>...</td>\n",
       "      <td>...</td>\n",
       "      <td>...</td>\n",
       "      <td>...</td>\n",
       "      <td>...</td>\n",
       "      <td>...</td>\n",
       "    </tr>\n",
       "    <tr>\n",
       "      <th>990</th>\n",
       "      <td>Giù la testa</td>\n",
       "      <td>1971</td>\n",
       "      <td>PG</td>\n",
       "      <td>157</td>\n",
       "      <td>Drama, War, Western</td>\n",
       "      <td>7.6</td>\n",
       "      <td>77.0</td>\n",
       "      <td>Sergio Leone</td>\n",
       "      <td>Rod Steiger</td>\n",
       "      <td>30144</td>\n",
       "      <td>696690.0</td>\n",
       "    </tr>\n",
       "    <tr>\n",
       "      <th>991</th>\n",
       "      <td>Kelly's Heroes</td>\n",
       "      <td>1970</td>\n",
       "      <td>GP</td>\n",
       "      <td>144</td>\n",
       "      <td>Adventure, Comedy, War</td>\n",
       "      <td>7.6</td>\n",
       "      <td>50.0</td>\n",
       "      <td>Brian G. Hutton</td>\n",
       "      <td>Clint Eastwood</td>\n",
       "      <td>45338</td>\n",
       "      <td>1378435.0</td>\n",
       "    </tr>\n",
       "    <tr>\n",
       "      <th>992</th>\n",
       "      <td>The Jungle Book</td>\n",
       "      <td>1967</td>\n",
       "      <td>U</td>\n",
       "      <td>78</td>\n",
       "      <td>Animation, Adventure, Family</td>\n",
       "      <td>7.6</td>\n",
       "      <td>65.0</td>\n",
       "      <td>Wolfgang Reitherman</td>\n",
       "      <td>Phil Harris</td>\n",
       "      <td>166409</td>\n",
       "      <td>141843612.0</td>\n",
       "    </tr>\n",
       "    <tr>\n",
       "      <th>994</th>\n",
       "      <td>A Hard Day's Night</td>\n",
       "      <td>1964</td>\n",
       "      <td>U</td>\n",
       "      <td>87</td>\n",
       "      <td>Comedy, Music, Musical</td>\n",
       "      <td>7.6</td>\n",
       "      <td>96.0</td>\n",
       "      <td>Richard Lester</td>\n",
       "      <td>John Lennon</td>\n",
       "      <td>40351</td>\n",
       "      <td>13780024.0</td>\n",
       "    </tr>\n",
       "    <tr>\n",
       "      <th>997</th>\n",
       "      <td>From Here to Eternity</td>\n",
       "      <td>1953</td>\n",
       "      <td>Passed</td>\n",
       "      <td>118</td>\n",
       "      <td>Drama, Romance, War</td>\n",
       "      <td>7.6</td>\n",
       "      <td>85.0</td>\n",
       "      <td>Fred Zinnemann</td>\n",
       "      <td>Burt Lancaster</td>\n",
       "      <td>43374</td>\n",
       "      <td>30500000.0</td>\n",
       "    </tr>\n",
       "  </tbody>\n",
       "</table>\n",
       "<p>714 rows × 11 columns</p>\n",
       "</div>"
      ],
      "text/plain": [
       "                 Series_Title  Released_Year Certificate  Runtime  \\\n",
       "0    The Shawshank Redemption           1994           A      142   \n",
       "1               The Godfather           1972           A      175   \n",
       "2             The Dark Knight           2008          UA      152   \n",
       "3      The Godfather: Part II           1974           A      202   \n",
       "4                12 Angry Men           1957           U       96   \n",
       "..                        ...            ...         ...      ...   \n",
       "990              Giù la testa           1971          PG      157   \n",
       "991            Kelly's Heroes           1970          GP      144   \n",
       "992           The Jungle Book           1967           U       78   \n",
       "994        A Hard Day's Night           1964           U       87   \n",
       "997     From Here to Eternity           1953      Passed      118   \n",
       "\n",
       "                            Genre  IMDB_Rating  Meta_score  \\\n",
       "0                           Drama          9.3        80.0   \n",
       "1                    Crime, Drama          9.2       100.0   \n",
       "2            Action, Crime, Drama          9.0        84.0   \n",
       "3                    Crime, Drama          9.0        90.0   \n",
       "4                    Crime, Drama          9.0        96.0   \n",
       "..                            ...          ...         ...   \n",
       "990           Drama, War, Western          7.6        77.0   \n",
       "991        Adventure, Comedy, War          7.6        50.0   \n",
       "992  Animation, Adventure, Family          7.6        65.0   \n",
       "994        Comedy, Music, Musical          7.6        96.0   \n",
       "997           Drama, Romance, War          7.6        85.0   \n",
       "\n",
       "                 Director           Star1  No_of_Votes        Gross  \n",
       "0          Frank Darabont     Tim Robbins      2343110   28341469.0  \n",
       "1    Francis Ford Coppola   Marlon Brando      1620367  134966411.0  \n",
       "2       Christopher Nolan  Christian Bale      2303232  534858444.0  \n",
       "3    Francis Ford Coppola       Al Pacino      1129952   57300000.0  \n",
       "4            Sidney Lumet     Henry Fonda       689845    4360000.0  \n",
       "..                    ...             ...          ...          ...  \n",
       "990          Sergio Leone     Rod Steiger        30144     696690.0  \n",
       "991       Brian G. Hutton  Clint Eastwood        45338    1378435.0  \n",
       "992   Wolfgang Reitherman     Phil Harris       166409  141843612.0  \n",
       "994        Richard Lester     John Lennon        40351   13780024.0  \n",
       "997        Fred Zinnemann  Burt Lancaster        43374   30500000.0  \n",
       "\n",
       "[714 rows x 11 columns]"
      ]
     },
     "execution_count": 28,
     "metadata": {},
     "output_type": "execute_result"
    }
   ],
   "source": [
    "data"
   ]
  },
  {
   "cell_type": "code",
   "execution_count": 29,
   "id": "1a9f86ec-e269-4ba9-bb9b-d0c01de42da8",
   "metadata": {},
   "outputs": [
    {
     "data": {
      "text/html": [
       "<div>\n",
       "<style scoped>\n",
       "    .dataframe tbody tr th:only-of-type {\n",
       "        vertical-align: middle;\n",
       "    }\n",
       "\n",
       "    .dataframe tbody tr th {\n",
       "        vertical-align: top;\n",
       "    }\n",
       "\n",
       "    .dataframe thead th {\n",
       "        text-align: right;\n",
       "    }\n",
       "</style>\n",
       "<table border=\"1\" class=\"dataframe\">\n",
       "  <thead>\n",
       "    <tr style=\"text-align: right;\">\n",
       "      <th></th>\n",
       "      <th>Series_Title</th>\n",
       "      <th>Released_Year</th>\n",
       "      <th>Certificate</th>\n",
       "      <th>Runtime</th>\n",
       "      <th>Genre</th>\n",
       "      <th>IMDB_Rating</th>\n",
       "      <th>Meta_score</th>\n",
       "      <th>Director</th>\n",
       "      <th>Star1</th>\n",
       "      <th>No_of_Votes</th>\n",
       "      <th>Gross</th>\n",
       "    </tr>\n",
       "  </thead>\n",
       "  <tbody>\n",
       "    <tr>\n",
       "      <th>0</th>\n",
       "      <td>The Shawshank Redemption</td>\n",
       "      <td>1994</td>\n",
       "      <td>A</td>\n",
       "      <td>142</td>\n",
       "      <td>Drama</td>\n",
       "      <td>9.3</td>\n",
       "      <td>80.0</td>\n",
       "      <td>Frank Darabont</td>\n",
       "      <td>Tim Robbins</td>\n",
       "      <td>2343110</td>\n",
       "      <td>28341469.0</td>\n",
       "    </tr>\n",
       "    <tr>\n",
       "      <th>9</th>\n",
       "      <td>Fight Club</td>\n",
       "      <td>1999</td>\n",
       "      <td>A</td>\n",
       "      <td>139</td>\n",
       "      <td>Drama</td>\n",
       "      <td>8.8</td>\n",
       "      <td>66.0</td>\n",
       "      <td>David Fincher</td>\n",
       "      <td>Brad Pitt</td>\n",
       "      <td>1854740</td>\n",
       "      <td>37030102.0</td>\n",
       "    </tr>\n",
       "    <tr>\n",
       "      <th>17</th>\n",
       "      <td>One Flew Over the Cuckoo's Nest</td>\n",
       "      <td>1975</td>\n",
       "      <td>A</td>\n",
       "      <td>133</td>\n",
       "      <td>Drama</td>\n",
       "      <td>8.7</td>\n",
       "      <td>83.0</td>\n",
       "      <td>Milos Forman</td>\n",
       "      <td>Jack Nicholson</td>\n",
       "      <td>918088</td>\n",
       "      <td>112000000.0</td>\n",
       "    </tr>\n",
       "    <tr>\n",
       "      <th>40</th>\n",
       "      <td>American History X</td>\n",
       "      <td>1998</td>\n",
       "      <td>R</td>\n",
       "      <td>119</td>\n",
       "      <td>Drama</td>\n",
       "      <td>8.5</td>\n",
       "      <td>62.0</td>\n",
       "      <td>Tony Kaye</td>\n",
       "      <td>Edward Norton</td>\n",
       "      <td>1034705</td>\n",
       "      <td>6719864.0</td>\n",
       "    </tr>\n",
       "  </tbody>\n",
       "</table>\n",
       "</div>"
      ],
      "text/plain": [
       "                       Series_Title  Released_Year Certificate  Runtime  \\\n",
       "0          The Shawshank Redemption           1994           A      142   \n",
       "9                        Fight Club           1999           A      139   \n",
       "17  One Flew Over the Cuckoo's Nest           1975           A      133   \n",
       "40               American History X           1998           R      119   \n",
       "\n",
       "    Genre  IMDB_Rating  Meta_score        Director           Star1  \\\n",
       "0   Drama          9.3        80.0  Frank Darabont     Tim Robbins   \n",
       "9   Drama          8.8        66.0   David Fincher       Brad Pitt   \n",
       "17  Drama          8.7        83.0    Milos Forman  Jack Nicholson   \n",
       "40  Drama          8.5        62.0       Tony Kaye   Edward Norton   \n",
       "\n",
       "    No_of_Votes        Gross  \n",
       "0       2343110   28341469.0  \n",
       "9       1854740   37030102.0  \n",
       "17       918088  112000000.0  \n",
       "40      1034705    6719864.0  "
      ]
     },
     "execution_count": 29,
     "metadata": {},
     "output_type": "execute_result"
    }
   ],
   "source": [
    "data[(data.IMDB_Rating>=1) & (data.Genre=='Drama')].head(4)"
   ]
  },
  {
   "cell_type": "code",
   "execution_count": 30,
   "id": "40ab41fc-d6a3-4857-8bb9-cfc317a3494a",
   "metadata": {},
   "outputs": [
    {
     "data": {
      "text/html": [
       "<div>\n",
       "<style scoped>\n",
       "    .dataframe tbody tr th:only-of-type {\n",
       "        vertical-align: middle;\n",
       "    }\n",
       "\n",
       "    .dataframe tbody tr th {\n",
       "        vertical-align: top;\n",
       "    }\n",
       "\n",
       "    .dataframe thead th {\n",
       "        text-align: right;\n",
       "    }\n",
       "</style>\n",
       "<table border=\"1\" class=\"dataframe\">\n",
       "  <thead>\n",
       "    <tr style=\"text-align: right;\">\n",
       "      <th></th>\n",
       "      <th>IMDB_Rating</th>\n",
       "      <th>Released_Year</th>\n",
       "    </tr>\n",
       "  </thead>\n",
       "  <tbody>\n",
       "    <tr>\n",
       "      <th>0</th>\n",
       "      <td>9.3</td>\n",
       "      <td>1994</td>\n",
       "    </tr>\n",
       "    <tr>\n",
       "      <th>1</th>\n",
       "      <td>9.2</td>\n",
       "      <td>1972</td>\n",
       "    </tr>\n",
       "    <tr>\n",
       "      <th>2</th>\n",
       "      <td>9.0</td>\n",
       "      <td>2008</td>\n",
       "    </tr>\n",
       "    <tr>\n",
       "      <th>3</th>\n",
       "      <td>9.0</td>\n",
       "      <td>1974</td>\n",
       "    </tr>\n",
       "    <tr>\n",
       "      <th>4</th>\n",
       "      <td>9.0</td>\n",
       "      <td>1957</td>\n",
       "    </tr>\n",
       "  </tbody>\n",
       "</table>\n",
       "</div>"
      ],
      "text/plain": [
       "   IMDB_Rating  Released_Year\n",
       "0          9.3           1994\n",
       "1          9.2           1972\n",
       "2          9.0           2008\n",
       "3          9.0           1974\n",
       "4          9.0           1957"
      ]
     },
     "execution_count": 30,
     "metadata": {},
     "output_type": "execute_result"
    }
   ],
   "source": [
    "data[['IMDB_Rating','Released_Year']].head(5)"
   ]
  },
  {
   "cell_type": "code",
   "execution_count": 37,
   "id": "f1a6653d-9305-42f5-93b2-7f39fee7eca0",
   "metadata": {},
   "outputs": [
    {
     "data": {
      "text/plain": [
       "Series_Title     0.0\n",
       "Released_Year    0.0\n",
       "Certificate      0.0\n",
       "Runtime          0.0\n",
       "Genre            0.0\n",
       "IMDB_Rating      0.0\n",
       "Meta_score       0.0\n",
       "Director         0.0\n",
       "Star1            0.0\n",
       "No_of_Votes      0.0\n",
       "Gross            0.0\n",
       "dtype: float64"
      ]
     },
     "execution_count": 37,
     "metadata": {},
     "output_type": "execute_result"
    }
   ],
   "source": [
    "data.isnull().sum()/data.shape[0]*100"
   ]
  },
  {
   "cell_type": "code",
   "execution_count": 40,
   "id": "2c330fdf-88a0-4c5b-9442-8471b7c0f686",
   "metadata": {},
   "outputs": [
    {
     "data": {
      "text/plain": [
       "0"
      ]
     },
     "execution_count": 40,
     "metadata": {},
     "output_type": "execute_result"
    }
   ],
   "source": [
    "data.duplicated().sum()"
   ]
  },
  {
   "cell_type": "code",
   "execution_count": 41,
   "id": "00997b86-e281-40c6-9b33-e3dc5cd5bfae",
   "metadata": {},
   "outputs": [
    {
     "data": {
      "text/plain": [
       "3476"
      ]
     },
     "execution_count": 41,
     "metadata": {},
     "output_type": "execute_result"
    }
   ],
   "source": [
    "data.nunique().sum()"
   ]
  },
  {
   "cell_type": "code",
   "execution_count": 42,
   "id": "e3cad334-030f-4602-bce0-3518e1ac4fd0",
   "metadata": {},
   "outputs": [
    {
     "data": {
      "text/html": [
       "<div>\n",
       "<style scoped>\n",
       "    .dataframe tbody tr th:only-of-type {\n",
       "        vertical-align: middle;\n",
       "    }\n",
       "\n",
       "    .dataframe tbody tr th {\n",
       "        vertical-align: top;\n",
       "    }\n",
       "\n",
       "    .dataframe thead th {\n",
       "        text-align: right;\n",
       "    }\n",
       "</style>\n",
       "<table border=\"1\" class=\"dataframe\">\n",
       "  <thead>\n",
       "    <tr style=\"text-align: right;\">\n",
       "      <th></th>\n",
       "      <th>Series_Title</th>\n",
       "      <th>Certificate</th>\n",
       "      <th>Genre</th>\n",
       "      <th>Director</th>\n",
       "      <th>Star1</th>\n",
       "    </tr>\n",
       "  </thead>\n",
       "  <tbody>\n",
       "    <tr>\n",
       "      <th>count</th>\n",
       "      <td>714</td>\n",
       "      <td>714</td>\n",
       "      <td>714</td>\n",
       "      <td>714</td>\n",
       "      <td>714</td>\n",
       "    </tr>\n",
       "    <tr>\n",
       "      <th>unique</th>\n",
       "      <td>714</td>\n",
       "      <td>12</td>\n",
       "      <td>172</td>\n",
       "      <td>402</td>\n",
       "      <td>472</td>\n",
       "    </tr>\n",
       "    <tr>\n",
       "      <th>top</th>\n",
       "      <td>The Shawshank Redemption</td>\n",
       "      <td>U</td>\n",
       "      <td>Drama</td>\n",
       "      <td>Steven Spielberg</td>\n",
       "      <td>Tom Hanks</td>\n",
       "    </tr>\n",
       "    <tr>\n",
       "      <th>freq</th>\n",
       "      <td>1</td>\n",
       "      <td>183</td>\n",
       "      <td>58</td>\n",
       "      <td>13</td>\n",
       "      <td>12</td>\n",
       "    </tr>\n",
       "  </tbody>\n",
       "</table>\n",
       "</div>"
      ],
      "text/plain": [
       "                    Series_Title Certificate  Genre          Director  \\\n",
       "count                        714         714    714               714   \n",
       "unique                       714          12    172               402   \n",
       "top     The Shawshank Redemption           U  Drama  Steven Spielberg   \n",
       "freq                           1         183     58                13   \n",
       "\n",
       "            Star1  \n",
       "count         714  \n",
       "unique        472  \n",
       "top     Tom Hanks  \n",
       "freq           12  "
      ]
     },
     "execution_count": 42,
     "metadata": {},
     "output_type": "execute_result"
    }
   ],
   "source": [
    "data.describe(include='object')"
   ]
  },
  {
   "cell_type": "code",
   "execution_count": 50,
   "id": "390b5403-af64-4d08-ad2d-18290ff98d56",
   "metadata": {},
   "outputs": [
    {
     "data": {
      "image/png": "[encoded data removed]",
      "text/plain": [
       "<Figure size 640x480 with 1 Axes>"
      ]
     },
     "metadata": {},
     "output_type": "display_data"
    },
    {
     "data": {
      "image/png": "[encoded data removed]",
      "text/plain": [
       "<Figure size 640x480 with 1 Axes>"
      ]
     },
     "metadata": {},
     "output_type": "display_data"
    },
    {
     "data": {
      "image/png": "[encoded data removed]",
      "text/plain": [
       "<Figure size 640x480 with 1 Axes>"
      ]
     },
     "metadata": {},
     "output_type": "display_data"
    },
    {
     "data": {
      "image/png": "[encoded data removed]",
      "text/plain": [
       "<Figure size 640x480 with 1 Axes>"
      ]
     },
     "metadata": {},
     "output_type": "display_data"
    },
    {
     "data": {
      "image/png": "[encoded data removed]",
      "text/plain": [
       "<Figure size 640x480 with 1 Axes>"
      ]
     },
     "metadata": {},
     "output_type": "display_data"
    },
    {
     "data": {
      "image/png": "[encoded data removed]",
      "text/plain": [
       "<Figure size 640x480 with 1 Axes>"
      ]
     },
     "metadata": {},
     "output_type": "display_data"
    }
   ],
   "source": [
    "import seaborn as sns\n",
    "for i in data.select_dtypes(include='number').columns:\n",
    "    sns.histplot(data=data,x=i)\n",
    "    plt.show()"
   ]
  },
  {
   "cell_type": "code",
   "execution_count": null,
   "id": "dd8ce124-25c5-4007-a2c1-70294c3bfe38",
   "metadata": {},
   "outputs": [],
   "source": []
  }
 ],
 "metadata": {
  "kernelspec": {
   "display_name": "Python 3 (ipykernel)",
   "language": "python",
   "name": "python3"
  },
  "language_info": {
   "codemirror_mode": {
    "name": "ipython",
    "version": 3
   },
   "file_extension": ".py",
   "mimetype": "text/x-python",
   "name": "python",
   "nbconvert_exporter": "python",
   "pygments_lexer": "ipython3",
   "version": "3.11.7"
  }
 },
 "nbformat": 4,
 "nbformat_minor": 5
}
